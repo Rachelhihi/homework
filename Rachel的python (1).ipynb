{
  "nbformat": 4,
  "nbformat_minor": 0,
  "metadata": {
    "colab": {
      "provenance": []
    },
    "kernelspec": {
      "name": "python3",
      "display_name": "Python 3"
    },
    "language_info": {
      "name": "python"
    }
  },
  "cells": [
    {
      "cell_type": "code",
      "source": [
        "name = '高睿謙'\n",
        "id = 'B1205043'\n",
        "s = [name,id]\n",
        "print(s)\n",
        "print(type(name),type(id))\n",
        "\n"
      ],
      "metadata": {
        "colab": {
          "base_uri": "https://localhost:8080/"
        },
        "id": "DhTh6V2N9Scl",
        "outputId": "b8f58994-f471-42c9-fa08-7e9ad9877e09"
      },
      "execution_count": 8,
      "outputs": [
        {
          "output_type": "stream",
          "name": "stdout",
          "text": [
            "['高睿謙', 'B1205043']\n",
            "<class 'str'> <class 'str'>\n"
          ]
        }
      ]
    },
    {
      "cell_type": "code",
      "source": [],
      "metadata": {
        "id": "RakD9d-cCQDR"
      },
      "execution_count": null,
      "outputs": []
    }
  ]
}