{
  "nbformat": 4,
  "nbformat_minor": 0,
  "metadata": {
    "colab": {
      "provenance": []
    },
    "kernelspec": {
      "name": "python3",
      "display_name": "Python 3"
    },
    "language_info": {
      "name": "python"
    }
  },
  "cells": [
    {
      "cell_type": "code",
      "source": [
        "import random\n",
        "target_number = random.randint(1, 100)\n",
        "print(\"歡迎參加猜數字遊戲!\")\n",
        "ans = 0\n",
        "\n",
        "while ans == 0 :\n",
        " print(\"猜一個數字\")\n",
        " num_str = input()\n",
        " num=int(num_str)\n",
        " if num > target_number :\n",
        "    print(\"往下猜\")\n",
        " elif num < target_number :\n",
        "    print(\"往上猜\")\n",
        " else :\n",
        "    print(f\"恭喜答對，答案是{target_number}，遊戲結束。\")\n",
        "    ans = 1\n"
      ],
      "metadata": {
        "colab": {
          "base_uri": "https://localhost:8080/"
        },
        "id": "YMEQM4hzD-Hw",
        "outputId": "c33ebbe3-6014-472b-fcc6-b0bc15cbdc56"
      },
      "execution_count": null,
      "outputs": [
        {
          "output_type": "stream",
          "name": "stdout",
          "text": [
            "歡迎參加猜數字遊戲!\n",
            "猜一個數字\n",
            "50\n",
            "往上猜\n",
            "猜一個數字\n",
            "70\n",
            "往上猜\n",
            "猜一個數字\n",
            "90\n",
            "往上猜\n",
            "猜一個數字\n",
            "95\n",
            "恭喜答對，答案是95，遊戲結束。\n"
          ]
        }
      ]
    },
    {
      "cell_type": "code",
      "source": [
        "# 定義定喘湯的資料\n",
        "prescription = {\n",
        "    '名稱': '定喘湯',\n",
        "    '出典': '證治準繩',\n",
        "    '處方': {\n",
        "        '白果仁': 6,  # 公克\n",
        "        '麻黃': 4,\n",
        "        '款冬花': 4,\n",
        "        '桑白皮': 4,\n",
        "        '半夏': 4,\n",
        "        '蘇子': 2.5,\n",
        "        '杏仁': 2,\n",
        "        '黃芩': 2,\n",
        "        '甘草': 1.5,\n",
        "    },\n",
        "    '效能': '宣肺平喘、清熱化痰',\n",
        "    '適應症': ['熱症喘咳']\n",
        "}\n",
        "\n",
        "# 使用 while 迴圈提供查詢服務\n",
        "while True:\n",
        "    query = input(\"\\n您想查詢什麼？(藥方名稱/出典/處方/效能/適應症/退出查詢)：\")\n",
        "\n",
        "    if query == \"藥方名稱\":\n",
        "        print(f\"{prescription['名稱']}\")\n",
        "    elif query == \"出典\":\n",
        "        print(f\"{prescription['名稱']}的出典為:{prescription['出典']}\")\n",
        "    elif query == \"適應症\":\n",
        "        print(f\"{prescription['名稱']}的適應症有:\")\n",
        "        for symptom in prescription['適應症']:\n",
        "            print(symptom)\n",
        "    elif query == \"處方\":\n",
        "        total_weight = sum(prescription['處方'].values())\n",
        "        print(f\"{prescription['名稱']}的處方為:\")\n",
        "        for medicine, weight in prescription['處方'].items():\n",
        "            print(f\"{medicine}：{weight}公克\")\n",
        "        print(f\"總克數為：{total_weight}公克\")\n",
        "    elif query == \"效能\":\n",
        "        print(f\"{prescription['名稱']}的效能是:{prescription['效能']}\")\n",
        "    elif query == \"退出查詢\":\n",
        "        print(\"感謝使用，再見！\")\n",
        "        break\n",
        "    else:\n",
        "        print(\"輸入無效，請重新輸入。\")"
      ],
      "metadata": {
        "colab": {
          "base_uri": "https://localhost:8080/"
        },
        "id": "d3kg8P9qDgyQ",
        "outputId": "a020a36b-f5a5-4d8c-e31b-27e7acdbe05d"
      },
      "execution_count": 11,
      "outputs": [
        {
          "output_type": "stream",
          "name": "stdout",
          "text": [
            "\n",
            "您想查詢什麼？(藥方名稱/出典/處方/效能/適應症/退出查詢)：效能\n",
            "定喘湯的效能是:宣肺平喘、清熱化痰\n",
            "\n",
            "您想查詢什麼？(藥方名稱/出典/處方/效能/適應症/退出查詢)：適應症\n",
            "定喘湯的適應症有:\n",
            "熱症喘咳\n",
            "\n",
            "您想查詢什麼？(藥方名稱/出典/處方/效能/適應症/退出查詢)：藥方名稱\n",
            "定喘湯\n",
            "\n",
            "您想查詢什麼？(藥方名稱/出典/處方/效能/適應症/退出查詢)：出典\n",
            "定喘湯的出典為:證治準繩\n",
            "\n",
            "您想查詢什麼？(藥方名稱/出典/處方/效能/適應症/退出查詢)：處方\n",
            "定喘湯的處方為:\n",
            "白果仁：6公克\n",
            "麻黃：4公克\n",
            "款冬花：4公克\n",
            "桑白皮：4公克\n",
            "半夏：4公克\n",
            "蘇子：2.5公克\n",
            "杏仁：2公克\n",
            "黃芩：2公克\n",
            "甘草：1.5公克\n",
            "總克數為：30.0公克\n",
            "\n",
            "您想查詢什麼？(藥方名稱/出典/處方/效能/適應症/退出查詢)：退出查詢\n",
            "感謝使用，再見！\n"
          ]
        }
      ]
    }
  ]
}