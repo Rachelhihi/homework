{
  "nbformat": 4,
  "nbformat_minor": 0,
  "metadata": {
    "colab": {
      "provenance": []
    },
    "kernelspec": {
      "name": "python3",
      "display_name": "Python 3"
    },
    "language_info": {
      "name": "python"
    }
  },
  "cells": [
    {
      "cell_type": "code",
      "source": [
        "name = '高睿謙'\n",
        "id = 'B1205043'\n",
        "s = [name,id]\n",
        "print(s)\n",
        "print(type(name),type(id))\n",
        "\n"
      ],
      "metadata": {
        "colab": {
          "base_uri": "https://localhost:8080/"
        },
        "id": "DhTh6V2N9Scl",
        "outputId": "b8f58994-f471-42c9-fa08-7e9ad9877e09"
      },
      "execution_count": null,
      "outputs": [
        {
          "output_type": "stream",
          "name": "stdout",
          "text": [
            "['高睿謙', 'B1205043']\n",
            "<class 'str'> <class 'str'>\n"
          ]
        }
      ]
    },
    {
      "cell_type": "code",
      "source": [
        "number = int(input('輸入數字'))\n",
        "for i in range (1, number + 1) :\n",
        "  for j in range (1,number + 1) :\n",
        "     product = i * j\n",
        "     print (f\"{i}*{j}={product}\")"
      ],
      "metadata": {
        "id": "RakD9d-cCQDR",
        "colab": {
          "base_uri": "https://localhost:8080/"
        },
        "outputId": "a3808606-4cf3-4721-fd93-663c4af867ea"
      },
      "execution_count": 10,
      "outputs": [
        {
          "output_type": "stream",
          "name": "stdout",
          "text": [
            "輸入數字4\n",
            "1*1=1\n",
            "1*2=2\n",
            "1*3=3\n",
            "1*4=4\n",
            "2*1=2\n",
            "2*2=4\n",
            "2*3=6\n",
            "2*4=8\n",
            "3*1=3\n",
            "3*2=6\n",
            "3*3=9\n",
            "3*4=12\n",
            "4*1=4\n",
            "4*2=8\n",
            "4*3=12\n",
            "4*4=16\n"
          ]
        }
      ]
    },
    {
      "cell_type": "code",
      "source": [
        "import random\n",
        "target_number = random.randint(1, 100)\n",
        "print(\"歡迎參加猜數字遊戲!\")\n",
        "ans = 0\n",
        "\n",
        "while ans == 0 :\n",
        " print(\"猜一個數字\")\n",
        " num_str = input()\n",
        " num=int(num_str)\n",
        " if num > target_number :\n",
        "    print(\"往下猜\")\n",
        " elif num < target_number :\n",
        "    print(\"往上猜\")\n",
        " else :\n",
        "    print(f\"恭喜答對，答案是{target_number}，遊戲結束。\")\n",
        "    ans = 1\n"
      ],
      "metadata": {
        "colab": {
          "base_uri": "https://localhost:8080/"
        },
        "id": "YMEQM4hzD-Hw",
        "outputId": "c33ebbe3-6014-472b-fcc6-b0bc15cbdc56"
      },
      "execution_count": 34,
      "outputs": [
        {
          "output_type": "stream",
          "name": "stdout",
          "text": [
            "歡迎參加猜數字遊戲!\n",
            "猜一個數字\n",
            "50\n",
            "往上猜\n",
            "猜一個數字\n",
            "70\n",
            "往上猜\n",
            "猜一個數字\n",
            "90\n",
            "往上猜\n",
            "猜一個數字\n",
            "95\n",
            "恭喜答對，答案是95，遊戲結束。\n"
          ]
        }
      ]
    }
  ]
}